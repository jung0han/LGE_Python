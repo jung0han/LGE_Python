{
 "cells": [
  {
   "cell_type": "markdown",
   "metadata": {},
   "source": [
    "# 공공데이터포털에서 아파트 실거래가 수집\n",
    "\n",
    "- 공공데이터포털(https://www.data.go.kr/index.do)에서 '아파트 실거래가'로 검색합니다.\n",
    "- '오픈 API' 탭을 선택한 다음, **'아파트매매 실거래자료'**에 대해 활용신청합니다.\n",
    "- 활용신청을 정상적으로 마쳤다면 **'API 승인키'**를 발급받게 됩니다."
   ]
  },
  {
   "cell_type": "markdown",
   "metadata": {},
   "source": [
    "## 0. 패키지 호출"
   ]
  },
  {
   "cell_type": "code",
   "execution_count": null,
   "metadata": {},
   "outputs": [],
   "source": [
    "# 웹 크롤링에 필요한 패키지를 호출합니다.\n",
    "from urllib import parse\n",
    "from requests import get\n",
    "from bs4 import BeautifulSoup as bts\n",
    "import pandas as pd\n",
    "import time"
   ]
  },
  {
   "cell_type": "markdown",
   "metadata": {},
   "source": [
    "## 1. HTTP Request 실행\n",
    "\n",
    "- 5자리 지역코드(시군구), 6자리 거래년월 및 API 승인키로 데이터를 받을 수 있습니다.\n",
    "- API 승인키는 '아파트매매 실거래자료' 상세 설명 페이지에서 복사할 수 있습니다.\n",
    "- 지역코드는 행정표준코드관리시스템(https://www.code.go.kr)에서 찾습니다.\n",
    "- 거래년월은 관심있는 기간을 스스로 설정하면 됩니다."
   ]
  },
  {
   "cell_type": "code",
   "execution_count": null,
   "metadata": {},
   "outputs": [],
   "source": [
    "# API 승인키를 지정합니다. (따옴표 안에 자신의 API 승인키를 붙여넣으세요!)\n",
    "key = ''"
   ]
  },
  {
   "cell_type": "code",
   "execution_count": null,
   "metadata": {},
   "outputs": [],
   "source": [
    "# URL 디코딩 결과를 출력합니다.\n",
    "parse.unquote(key)"
   ]
  },
  {
   "cell_type": "code",
   "execution_count": null,
   "metadata": {},
   "outputs": [],
   "source": [
    "# 아파트매매 실거래가의 URL을 복사해서 붙입니다.\n",
    "main_url = 'http://openapi.molit.go.kr:8081'\n",
    "sub_path = '/OpenAPI_ToolInstallPackage/service/rest/RTMSOBJSvc/getRTMSDataSvcAptTrade'"
   ]
  },
  {
   "cell_type": "code",
   "execution_count": null,
   "metadata": {},
   "outputs": [],
   "source": [
    "# 검색조건을 Query Strings로 생성합니다. (서울 강남구, 2020년 6월 거래건)\n",
    "# API 승인키에 '%'가 포함되어 있으면 사전에 URL 디코딩을 실행해야 합니다.\n",
    "params = {'LAWD_CD': '11680', \n",
    "          'DEAL_YMD': '202006', \n",
    "          'serviceKey': parse.unquote(key)}"
   ]
  },
  {
   "cell_type": "code",
   "execution_count": null,
   "metadata": {},
   "outputs": [],
   "source": [
    "# HTTP Request를 실행합니다.\n",
    "res = get(main_url + sub_path, params = params)"
   ]
  },
  {
   "cell_type": "markdown",
   "metadata": {},
   "source": [
    "## 2. HTTP Response 확인"
   ]
  },
  {
   "cell_type": "code",
   "execution_count": null,
   "metadata": {},
   "outputs": [],
   "source": [
    "# 응답 객체의 상태코드를 확인합니다. (200이면 정상!)\n",
    "res.status_code"
   ]
  },
  {
   "cell_type": "code",
   "execution_count": null,
   "metadata": {},
   "outputs": [],
   "source": [
    "# 응답 헤더를 확인합니다. (콘텐트 타입, 인코딩 방식 등)\n",
    "res.headers"
   ]
  },
  {
   "cell_type": "code",
   "execution_count": null,
   "metadata": {},
   "outputs": [],
   "source": [
    "# 요청 URL을 확인합니다. (퍼센트 더블 인코딩 발생 여부 확인!)\n",
    "res.url"
   ]
  },
  {
   "cell_type": "code",
   "execution_count": null,
   "metadata": {},
   "outputs": [],
   "source": [
    "# 응답 객체의 콘텐트를 출력합니다. (인코딩 방식을 지정해주어야 한글이 제대로 보입니다.)\n",
    "res.content.decode('UTF-8')"
   ]
  },
  {
   "cell_type": "markdown",
   "metadata": {},
   "source": [
    "## 3. XML을 데이터프레임으로 변환"
   ]
  },
  {
   "cell_type": "code",
   "execution_count": null,
   "metadata": {},
   "outputs": [],
   "source": [
    "# XML 형태로 읽습니다.\n",
    "xml = bts(res.content, 'lxml-xml')\n",
    "xml"
   ]
  },
  {
   "cell_type": "code",
   "execution_count": null,
   "metadata": {},
   "outputs": [],
   "source": [
    "# 데이터가 반복되는 'item' 노드를 리스트 객체로 생성합니다.\n",
    "items = xml.select('item')\n",
    "items"
   ]
  },
  {
   "cell_type": "code",
   "execution_count": null,
   "metadata": {},
   "outputs": [],
   "source": [
    "# `items` 객체의 길이를 확인합니다.\n",
    "len(items)"
   ]
  },
  {
   "cell_type": "code",
   "execution_count": null,
   "metadata": {},
   "outputs": [],
   "source": [
    "# `items` 객체의 첫 번째 원소를 출력하여 형태를 확인합니다.\n",
    "items[0]"
   ]
  },
  {
   "cell_type": "code",
   "execution_count": null,
   "metadata": {},
   "outputs": [],
   "source": [
    "# pretty type으로 출력합니다.\n",
    "print(items[0].prettify())"
   ]
  },
  {
   "cell_type": "code",
   "execution_count": null,
   "metadata": {},
   "outputs": [],
   "source": [
    "# 'node'의 텍스트가 None인 경우, 에러가 발생하므로 사용자 정의 함수로 방지합니다.\n",
    "def getItemText(xml, node):\n",
    "    xmlText = xml.find(node)\n",
    "    if xmlText == None:\n",
    "        listText = ''\n",
    "    else:\n",
    "        listText = str(xmlText.text).strip()\n",
    "    return listText"
   ]
  },
  {
   "cell_type": "code",
   "execution_count": null,
   "metadata": {},
   "outputs": [],
   "source": [
    "# 빈 리스트 객체를 생성합니다.\n",
    "rows = []\n",
    "\n",
    "# 반복문을 실행하여 각 `item`의 노드에 포함된 데이터를 rows에 추가합니다.\n",
    "for item in items:\n",
    "    price = getItemText(item, '거래금액')\n",
    "    byear = getItemText(item, '건축년도')\n",
    "    acode = getItemText(item, '지역코드')\n",
    "    bdong = getItemText(item, '법정동')\n",
    "    jibun = getItemText(item, '지번')\n",
    "    aptNm = getItemText(item, '아파트')\n",
    "    tyear = getItemText(item, '년')\n",
    "    tmnth = getItemText(item, '월').zfill(2)\n",
    "    tdate = getItemText(item, '일').zfill(2)\n",
    "    exUse = getItemText(item, '전용면적')\n",
    "    floor = getItemText(item, '층')\n",
    "    \n",
    "    rows.append({'price': price,\n",
    "                 'byear': byear,\n",
    "                 'acode': acode,\n",
    "                 'bdong': bdong,\n",
    "                 'jibun': jibun,\n",
    "                 'aptNm': aptNm,\n",
    "                 'tyear': tyear,\n",
    "                 'tmnth': tmnth,\n",
    "                 'tdate': tdate,\n",
    "                 'exUse': exUse,\n",
    "                 'floor': floor})"
   ]
  },
  {
   "cell_type": "code",
   "execution_count": null,
   "metadata": {},
   "outputs": [],
   "source": [
    "# `rows`의 크기를 확인합니다.\n",
    "len(rows)"
   ]
  },
  {
   "cell_type": "code",
   "execution_count": null,
   "metadata": {
    "scrolled": true
   },
   "outputs": [],
   "source": [
    "# `rows`의 일부를 출력하여 형태를 확인합니다.\n",
    "rows[:3]"
   ]
  },
  {
   "cell_type": "code",
   "execution_count": null,
   "metadata": {},
   "outputs": [],
   "source": [
    "# `rows`를 데이터프레임으로 변환합니다.\n",
    "df = pd.DataFrame(rows)"
   ]
  },
  {
   "cell_type": "code",
   "execution_count": null,
   "metadata": {},
   "outputs": [],
   "source": [
    "# 처음 10행만 출력합니다.\n",
    "df.head(10)"
   ]
  },
  {
   "cell_type": "markdown",
   "metadata": {},
   "source": [
    "## 4. 데이터프레임 전처리"
   ]
  },
  {
   "cell_type": "code",
   "execution_count": null,
   "metadata": {},
   "outputs": [],
   "source": [
    "# 컬럼별 자료형을 확인합니다.\n",
    "df.dtypes"
   ]
  },
  {
   "cell_type": "code",
   "execution_count": null,
   "metadata": {},
   "outputs": [],
   "source": [
    "# `price`(거래금액) 컬럼에서 콤마를 삭제한 다음, 정수형으로 변환합니다.\n",
    "df['price'] = df['price'].str.replace(',', '').astype(int)\n",
    "\n",
    "# 단위를 '만원'에서 '억원'으로 변경합니다.\n",
    "df['price'] = df['price'] / 10000"
   ]
  },
  {
   "cell_type": "code",
   "execution_count": null,
   "metadata": {},
   "outputs": [],
   "source": [
    "# `exUse`(전용면적) 컬럼을 실수형으로 변환합니다.\n",
    "df['exUse'] = df['exUse'].astype(float)"
   ]
  },
  {
   "cell_type": "code",
   "execution_count": null,
   "metadata": {},
   "outputs": [],
   "source": [
    "# 컬럼별 자료형을 재확인합니다.\n",
    "df.dtypes"
   ]
  },
  {
   "cell_type": "markdown",
   "metadata": {},
   "source": [
    "## 5. 사용자 정의 함수 생성"
   ]
  },
  {
   "cell_type": "code",
   "execution_count": null,
   "metadata": {},
   "outputs": [],
   "source": [
    "# '지역코드'와 '거래년월'을 입력하면 데이터프레임으로 반환하는 사용자 정의 함수입니다.\n",
    "def getAptData(area_cd, deal_ymd):\n",
    "    \n",
    "    main_url = 'http://openapi.molit.go.kr:8081'\n",
    "    sub_path = '/OpenAPI_ToolInstallPackage/service/rest/RTMSOBJSvc/getRTMSDataSvcAptTrade'\n",
    "    params = {'LAWD_CD': area_cd, \n",
    "              'DEAL_YMD': deal_ymd, \n",
    "              'serviceKey': parse.unquote(key)}\n",
    "    \n",
    "    res = get(main_url + sub_path, params = params)\n",
    "    \n",
    "    if res.status_code == 200:\n",
    "        \n",
    "        xml = bts(res.content, 'xml')\n",
    "        items = xml.select('items > item')\n",
    "        \n",
    "        rows = []\n",
    "        \n",
    "        for item in items:\n",
    "            price = getItemText(item, '거래금액')\n",
    "            byear = getItemText(item, '건축년도')\n",
    "            acode = getItemText(item, '지역코드')\n",
    "            bdong = getItemText(item, '법정동')\n",
    "            jibun = getItemText(item, '지번')\n",
    "            aptNm = getItemText(item, '아파트')\n",
    "            tyear = getItemText(item, '년')\n",
    "            tmnth = getItemText(item, '월').zfill(2)\n",
    "            tdate = getItemText(item, '일').zfill(2)\n",
    "            exUse = getItemText(item, '전용면적')\n",
    "            floor = getItemText(item, '층')\n",
    "            \n",
    "            rows.append({'price': price,\n",
    "                         'byear': byear,\n",
    "                         'acode': acode,\n",
    "                         'bdong': bdong,\n",
    "                         'jibun': jibun,\n",
    "                         'aptNm': aptNm,\n",
    "                         'tyear': tyear,\n",
    "                         'tmnth': tmnth,\n",
    "                         'tdate': tdate,\n",
    "                         'exUse': exUse,\n",
    "                         'floor': floor})\n",
    "    \n",
    "        df = pd.DataFrame(rows)\n",
    "        \n",
    "        df['price'] = df['price'].str.replace(',', '').astype(int)\n",
    "        df['price'] = df['price'] / 10000\n",
    "        \n",
    "        df['exUse'] = df['exUse'].astype(float)\n",
    "        \n",
    "    else:\n",
    "        df = pd.DataFrame([])\n",
    "    \n",
    "    time.sleep(1)\n",
    "    \n",
    "    return df"
   ]
  },
  {
   "cell_type": "code",
   "execution_count": null,
   "metadata": {},
   "outputs": [],
   "source": [
    "# 사용자 정의 함수를 테스트합니다.\n",
    "df = getAptData(area_cd = '11680', deal_ymd = '202001')\n",
    "\n",
    "# 처음 10행만 출력합니다.\n",
    "df.head(10)"
   ]
  },
  {
   "cell_type": "code",
   "execution_count": null,
   "metadata": {},
   "outputs": [],
   "source": [
    "# 2020년 1~6월을 리스트 객체로 생성합니다.\n",
    "ymds = ['202001', '202002', '202003', '202004', '202005', '202006']"
   ]
  },
  {
   "cell_type": "code",
   "execution_count": null,
   "metadata": {},
   "outputs": [],
   "source": [
    "# 최종 저장 객체인 `apt`를 빈 데이터프레임으로 생성합니다.\n",
    "apt = pd.DataFrame([])\n",
    "\n",
    "# 반복문을 실행합니다.\n",
    "for ymd in ymds:\n",
    "    df = getAptData(area_cd = '11680', deal_ymd = ymd)\n",
    "    apt = pd.concat([apt, df])"
   ]
  },
  {
   "cell_type": "code",
   "execution_count": null,
   "metadata": {},
   "outputs": [],
   "source": [
    "# `apt` 객체의 정보를 확인합니다.\n",
    "apt.info()"
   ]
  },
  {
   "cell_type": "code",
   "execution_count": null,
   "metadata": {},
   "outputs": [],
   "source": [
    "# 처음 10행만 출력합니다.\n",
    "apt.head(10)"
   ]
  },
  {
   "cell_type": "code",
   "execution_count": null,
   "metadata": {},
   "outputs": [],
   "source": [
    "# `trade`(거래일자) 컬럼을 생성합니다.\n",
    "apt['trade'] = apt['tyear'] + apt['tmnth'] + apt['tdate']\n",
    "apt['trade']"
   ]
  },
  {
   "cell_type": "markdown",
   "metadata": {},
   "source": [
    "## 6. 다양한 그래프 그리기"
   ]
  },
  {
   "cell_type": "code",
   "execution_count": null,
   "metadata": {},
   "outputs": [],
   "source": [
    "# 필요한 패키지를 호출합니다.\n",
    "import numpy as np\n",
    "from matplotlib import pyplot as plt\n",
    "from dfply import *\n",
    "\n",
    "# 그래프에서 한글이 제대로 출력되도록 폰트를 지정합니다.\n",
    "plt.rc('font', family = 'AppleGothic')"
   ]
  },
  {
   "cell_type": "code",
   "execution_count": null,
   "metadata": {},
   "outputs": [],
   "source": [
    "# `price`(거래금액) 컬럼의 기술통계량을 확인합니다.\n",
    "apt['price'].describe()"
   ]
  },
  {
   "cell_type": "code",
   "execution_count": null,
   "metadata": {},
   "outputs": [],
   "source": [
    "# `price`(거래금액) 컬럼으로 도수분포표를 생성합니다.\n",
    "bins = np.arange(0, 61, 5)\n",
    "hist, bins = np.histogram(apt['price'], bins)\n",
    "\n",
    "# 빈도수를 출력합니다.\n",
    "hist"
   ]
  },
  {
   "cell_type": "code",
   "execution_count": null,
   "metadata": {},
   "outputs": [],
   "source": [
    "# `price`(거래금액) 컬럼으로 히스토그램을 그립니다.\n",
    "plt.figure(figsize = (6, 4), dpi = 100)\n",
    "plt.hist(apt['price'], \n",
    "         bins,\n",
    "         color = 'gray',\n",
    "         ec = 'black',\n",
    "         density = True)\n",
    "plt.title('서울 강남구 아파트 거래금액(2020년 1~6월)', fontsize = 14)\n",
    "plt.xlabel('거래금액(억원)', fontsize = 12)\n",
    "plt.show()"
   ]
  },
  {
   "cell_type": "code",
   "execution_count": null,
   "metadata": {},
   "outputs": [],
   "source": [
    "# `price`(거래금액) 컬럼으로 상자수염그림을 그립니다.\n",
    "plt.figure(figsize = (6, 4), dpi = 100)\n",
    "plt.boxplot(apt['price'], \n",
    "            sym = 'red', \n",
    "            boxprops = dict(c = 'blue', lw = 2),\n",
    "            whiskerprops = dict(c = 'red', ls = '--'))\n",
    "plt.title('서울 강남구 아파트 거래금액(2020년 1~6월)', fontsize = 14)\n",
    "plt.xticks([1], ['거래금액(억원)'])\n",
    "plt.show()"
   ]
  },
  {
   "cell_type": "code",
   "execution_count": null,
   "metadata": {},
   "outputs": [],
   "source": [
    "# `exUse`(전용면적)과 `price`(거래금액) 간 산점도를 그립니다.\n",
    "plt.figure(figsize = (6, 4), dpi = 100)\n",
    "plt.scatter(apt['exUse'], apt['price'], c = 'gray')\n",
    "plt.title('전용면적과 거래금액의 관계', fontsize = 14)\n",
    "plt.axvline(apt['exUse'].mean(), c = 'b', ls = '--', lw = 1)\n",
    "plt.axhline(apt['price'].mean(), c = 'b', ls = '--', lw = 1)\n",
    "\n",
    "high = apt[apt['price'] >= 50]\n",
    "plt.scatter(high['exUse'], high['price'], c = 'red')\n",
    "\n",
    "for x, y, label in zip(high['exUse'], high['price'], high['aptNm']):\n",
    "    plt.text(x - 5, y, label, \n",
    "             ha = 'right', va = 'center', c = 'darkblue')\n",
    "\n",
    "plt.show()"
   ]
  },
  {
   "cell_type": "code",
   "execution_count": null,
   "metadata": {},
   "outputs": [],
   "source": [
    "# `price`(거래금액)이 50억 이상인 행을 확인합니다.\n",
    "high"
   ]
  },
  {
   "cell_type": "code",
   "execution_count": null,
   "metadata": {},
   "outputs": [],
   "source": [
    "# `trade`(거래일자)별 거래건수를 생성합니다.\n",
    "tradeCnt = apt >> group_by(X.trade) >> summarise(count = X.trade.count())\n",
    "tradeCnt"
   ]
  },
  {
   "cell_type": "code",
   "execution_count": null,
   "metadata": {},
   "outputs": [],
   "source": [
    "# `tradeCnt`의 `trade`와 `count` 컬럼으로 선그래프를 그립니다.\n",
    "plt.figure(figsize = (6, 4), dpi = 100)\n",
    "plt.plot(tradeCnt['trade'], \n",
    "         tradeCnt['count'], \n",
    "         color = 'darkred', \n",
    "         marker = 'o',\n",
    "         linestyle = '-', \n",
    "         linewidth = 1)\n",
    "plt.title('일별 아파트 거래건수 현황', fontsize = 14)\n",
    "plt.xlabel('거래일자', fontsize = 12)\n",
    "plt.ylabel('거래건수', fontsize = 12)\n",
    "plt.show()"
   ]
  },
  {
   "cell_type": "code",
   "execution_count": null,
   "metadata": {},
   "outputs": [],
   "source": [
    "# `bdong`(법정동)별 거래건수를 생성합니다.\n",
    "bdongCnt = apt >> group_by(X.bdong) >> summarise(count = X.bdong.count())\n",
    "bdongCnt"
   ]
  },
  {
   "cell_type": "code",
   "execution_count": null,
   "metadata": {},
   "outputs": [],
   "source": [
    "# `bdongCnt`의 `bdong`과 `count` 컬럼으로 막대그래프를 그립니다.\n",
    "plt.figure(figsize = (6, 4), dpi = 100)\n",
    "plt.bar(bdongCnt['bdong'], bdongCnt['count'], color = 'orange')\n",
    "plt.title('법정동별 아파트 거래건수 현황', fontsize = 14)\n",
    "plt.xticks(rotation = 90)\n",
    "plt.xlabel('법정동명', fontsize = 12)\n",
    "plt.ylabel('거래건수', fontsize = 12)\n",
    "\n",
    "plt.ylim(0, 250)\n",
    "for x, y in zip(bdongCnt['bdong'], bdongCnt['count']):\n",
    "    plt.text(x, y + 0.01, y, \n",
    "             ha = 'center', va = 'bottom', c = 'k')\n",
    "\n",
    "plt.show()"
   ]
  },
  {
   "cell_type": "code",
   "execution_count": null,
   "metadata": {},
   "outputs": [],
   "source": [
    "# `bdong`(법정동)별 평균 거래금액을 생성합니다.\n",
    "priceMean = (apt >> \n",
    "             group_by(X.bdong) >> \n",
    "             summarise(pmean = X.price.mean()) >>\n",
    "             mutate(pmean = np.round(X.pmean, 1)))\n",
    "priceMean"
   ]
  },
  {
   "cell_type": "code",
   "execution_count": null,
   "metadata": {},
   "outputs": [],
   "source": [
    "# `priceMean`의 `bdong`과 `pmean` 컬럼으로 가로 막대그래프를 그립니다.\n",
    "plt.figure(figsize = (6, 4), dpi = 100)\n",
    "plt.barh(priceMean['bdong'], priceMean['pmean'], color = 'skyblue')\n",
    "plt.gca().invert_yaxis()\n",
    "plt.title('법정동별 평균 거래금액 현황', fontsize = 14)\n",
    "plt.xlabel('평균금액', fontsize = 12)\n",
    "plt.ylabel('법정동명', fontsize = 12)\n",
    "\n",
    "plt.xlim(0, 30)\n",
    "for x, y in zip(priceMean['pmean'], priceMean['bdong']):\n",
    "    plt.text(x + 0.01, y, x, \n",
    "             ha = 'left', va = 'center', c = 'k')\n",
    "\n",
    "plt.show()"
   ]
  },
  {
   "cell_type": "code",
   "execution_count": null,
   "metadata": {},
   "outputs": [],
   "source": [
    "# `exUse`(전용면적)당 `price`(거래금액) 컬럼을 생성합니다.\n",
    "apt['unitp'] = apt['price'] / apt['exUse']"
   ]
  },
  {
   "cell_type": "code",
   "execution_count": null,
   "metadata": {},
   "outputs": [],
   "source": [
    "# `bdong`(법정동)별 평균 전용면적당 거래금액을 생성합니다.\n",
    "unitpMean = (apt >> \n",
    "             group_by(X.bdong) >> \n",
    "             summarise(unitp = X.unitp.mean()) >> \n",
    "             mutate(unitp = np.round(X.unitp, 3)))\n",
    "unitpMean"
   ]
  },
  {
   "cell_type": "code",
   "execution_count": null,
   "metadata": {},
   "outputs": [],
   "source": [
    "# `unitpMean`의 `bdong`과 `unitp` 컬럼으로 가로 막대그래프를 그립니다.\n",
    "plt.figure(figsize = (6, 4), dpi = 100)\n",
    "plt.barh(unitpMean['bdong'], unitpMean['unitp'], color = 'royalblue')\n",
    "plt.gca().invert_yaxis()\n",
    "plt.title('법정동별 전용면적당 평균 거래금액 현황', fontsize = 14)\n",
    "plt.xlabel('전용면적당 평균금액', fontsize = 12)\n",
    "plt.ylabel('법정동명', fontsize = 12)\n",
    "\n",
    "plt.xlim(0, 0.32)\n",
    "for x, y in zip(unitpMean['unitp'], unitpMean['bdong']):\n",
    "    plt.text(x + 0.01, y, x, \n",
    "             ha = 'left', va = 'center', c = 'k')\n",
    "\n",
    "plt.show()"
   ]
  },
  {
   "cell_type": "markdown",
   "metadata": {},
   "source": [
    "## End of Document"
   ]
  },
  {
   "cell_type": "code",
   "execution_count": null,
   "metadata": {},
   "outputs": [],
   "source": []
  }
 ],
 "metadata": {
  "kernelspec": {
   "display_name": "Python 3",
   "language": "python",
   "name": "python3"
  },
  "language_info": {
   "codemirror_mode": {
    "name": "ipython",
    "version": 3
   },
   "file_extension": ".py",
   "mimetype": "text/x-python",
   "name": "python",
   "nbconvert_exporter": "python",
   "pygments_lexer": "ipython3",
   "version": "3.7.6"
  }
 },
 "nbformat": 4,
 "nbformat_minor": 2
}
