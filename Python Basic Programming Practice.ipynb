{
 "cells": [
  {
   "cell_type": "markdown",
   "metadata": {},
   "source": [
    "# Python Basic Programming 연습문제"
   ]
  },
  {
   "cell_type": "markdown",
   "metadata": {},
   "source": [
    "## [연습문제1] 숫자형 자료의 연산"
   ]
  },
  {
   "cell_type": "code",
   "execution_count": null,
   "metadata": {},
   "outputs": [],
   "source": [
    "# 숫자 객체 `c`와 `d`를 생성하고 다양한 연산을 실행하세요.\n",
    "c = 3.0; d = 3"
   ]
  },
  {
   "cell_type": "code",
   "execution_count": null,
   "metadata": {},
   "outputs": [],
   "source": [
    "# `c`와 `d`를 출력하고, \n",
    "print(c)"
   ]
  },
  {
   "cell_type": "code",
   "execution_count": null,
   "metadata": {},
   "outputs": [],
   "source": [
    "print(d)"
   ]
  },
  {
   "cell_type": "code",
   "execution_count": null,
   "metadata": {},
   "outputs": [],
   "source": [
    "# 자료형(data type)을 확인합니다.\n",
    "type(c)"
   ]
  },
  {
   "cell_type": "code",
   "execution_count": null,
   "metadata": {},
   "outputs": [],
   "source": [
    "type(d)"
   ]
  },
  {
   "cell_type": "code",
   "execution_count": null,
   "metadata": {},
   "outputs": [],
   "source": [
    "# `c`와 `d`의 사칙연산을 실행합니다.\n",
    "c + d"
   ]
  },
  {
   "cell_type": "code",
   "execution_count": null,
   "metadata": {},
   "outputs": [],
   "source": [
    "c - d"
   ]
  },
  {
   "cell_type": "code",
   "execution_count": null,
   "metadata": {},
   "outputs": [],
   "source": [
    "c * d"
   ]
  },
  {
   "cell_type": "code",
   "execution_count": null,
   "metadata": {},
   "outputs": [],
   "source": [
    "c / d"
   ]
  },
  {
   "cell_type": "code",
   "execution_count": null,
   "metadata": {
    "scrolled": true
   },
   "outputs": [],
   "source": [
    "# `c`에 `d`의 거듭제곱 연산을 실행합니다.\n",
    "c ** d"
   ]
  },
  {
   "cell_type": "code",
   "execution_count": null,
   "metadata": {},
   "outputs": [],
   "source": [
    "# `c`를 `d`로 나누었을 때의 몫을 출력합니다.\n",
    "c // d"
   ]
  },
  {
   "cell_type": "code",
   "execution_count": null,
   "metadata": {},
   "outputs": [],
   "source": [
    "# `c`를 `d`로 나누었을 때의 나머지를 출력합니다.\n",
    "c % d"
   ]
  },
  {
   "cell_type": "code",
   "execution_count": null,
   "metadata": {},
   "outputs": [],
   "source": [
    "# `c`와 `d`의 비교('크다', '크거나 작다', '작다', '작거나 같다', '같다', '다르다') 연산을 실행합니다.\n",
    "c > d"
   ]
  },
  {
   "cell_type": "code",
   "execution_count": null,
   "metadata": {},
   "outputs": [],
   "source": [
    "c >= d"
   ]
  },
  {
   "cell_type": "code",
   "execution_count": null,
   "metadata": {},
   "outputs": [],
   "source": [
    "c < d"
   ]
  },
  {
   "cell_type": "code",
   "execution_count": null,
   "metadata": {},
   "outputs": [],
   "source": [
    "c <= d"
   ]
  },
  {
   "cell_type": "code",
   "execution_count": null,
   "metadata": {},
   "outputs": [],
   "source": [
    "c == d"
   ]
  },
  {
   "cell_type": "code",
   "execution_count": null,
   "metadata": {},
   "outputs": [],
   "source": [
    "c != d"
   ]
  },
  {
   "cell_type": "code",
   "execution_count": null,
   "metadata": {},
   "outputs": [],
   "source": [
    "# `c`가 리스트 객체 [3, 6, 9]의 원소인지 여부를 확인하세요.\n",
    "c in [3, 6, 9]"
   ]
  },
  {
   "cell_type": "code",
   "execution_count": null,
   "metadata": {},
   "outputs": [],
   "source": [
    "# `d`가 리스트 객체 [2, 4, 8]의 원소인지 여부를 확인하세요.\n",
    "d in [2, 4, 8]"
   ]
  },
  {
   "cell_type": "code",
   "execution_count": null,
   "metadata": {},
   "outputs": [],
   "source": [
    "# `c`에 1을 더한 결과를 `c`에 재할당하는 연산을 실행하세요.\n",
    "c += 1\n",
    "print(c)"
   ]
  },
  {
   "cell_type": "code",
   "execution_count": null,
   "metadata": {},
   "outputs": [],
   "source": [
    "# `c`를 1로 뺀 결과를 `c`에 재할당하는 연산을 실행하세요.\n",
    "c -= 1\n",
    "print(c)"
   ]
  },
  {
   "cell_type": "code",
   "execution_count": null,
   "metadata": {},
   "outputs": [],
   "source": [
    "# `d`에 1.5를 곱한 결과를 `d`에 재할당하는 연산을 실행하세요.\n",
    "d *= 1.5\n",
    "print(d)"
   ]
  },
  {
   "cell_type": "code",
   "execution_count": null,
   "metadata": {},
   "outputs": [],
   "source": [
    "# `d`를 1.5로 나눈 결과를 `d`에 재할당하는 연산을 실행하세요.\n",
    "d /= 1.5\n",
    "print(d)"
   ]
  },
  {
   "cell_type": "markdown",
   "metadata": {},
   "source": [
    "## [연습문제2] 문자열의 인덱싱 및 슬라이싱"
   ]
  },
  {
   "cell_type": "code",
   "execution_count": null,
   "metadata": {},
   "outputs": [],
   "source": [
    "# 문자열 객체를 생성하고 인덱싱과 슬라이싱을 이용하여 다음 문제를 해결하세요.\n",
    "sen1 = '어머니는 거실에서 책을 보신다.'\n",
    "print(sen1)"
   ]
  },
  {
   "cell_type": "code",
   "execution_count": null,
   "metadata": {},
   "outputs": [],
   "source": [
    "# `sen1`에서 '어머니'를 출력합니다.\n",
    "sen1[0:3]"
   ]
  },
  {
   "cell_type": "code",
   "execution_count": null,
   "metadata": {},
   "outputs": [],
   "source": [
    "# `sen1`에서 '거실'을 출력합니다.\n",
    "sen1[5:7]"
   ]
  },
  {
   "cell_type": "code",
   "execution_count": null,
   "metadata": {},
   "outputs": [],
   "source": [
    "# `sen1`에서 '책'을 출력합니다.\n",
    "sen1[10]"
   ]
  },
  {
   "cell_type": "code",
   "execution_count": null,
   "metadata": {},
   "outputs": [],
   "source": [
    "# `sen1`에서 '어머니는 거실에서'를 출력합니다.\n",
    "sen1[0:9]"
   ]
  },
  {
   "cell_type": "code",
   "execution_count": null,
   "metadata": {},
   "outputs": [],
   "source": [
    "# `sen1`에서 '책을 보신다.'를 출력합니다.\n",
    "sen1[10:17]"
   ]
  },
  {
   "cell_type": "code",
   "execution_count": null,
   "metadata": {},
   "outputs": [],
   "source": [
    "# `sen1`에서 '어머니는 거실에서 책을 보신다'를 출력합니다. (마침표가 없습니다!)\n",
    "sen1[0:16]"
   ]
  },
  {
   "cell_type": "markdown",
   "metadata": {},
   "source": [
    "## [연습문제3] 문자열 관련 함수"
   ]
  },
  {
   "cell_type": "code",
   "execution_count": null,
   "metadata": {},
   "outputs": [],
   "source": [
    "# 문자열 객체를 생성하고 속성과 행동을 사용하여 다음 문제를 해결하세요.\n",
    "sen2 = '\\n어머니는 주방에서 맛있는 음식을 요리하신다.\\t'\n",
    "print(sen2)"
   ]
  },
  {
   "cell_type": "code",
   "execution_count": null,
   "metadata": {},
   "outputs": [],
   "source": [
    "# `sen2`에 '는'이 포함되어 있는 개수를 반환합니다.\n",
    "sen2.count('는')"
   ]
  },
  {
   "cell_type": "code",
   "execution_count": null,
   "metadata": {},
   "outputs": [],
   "source": [
    "# `sen2`에 '은'이 처음 나오는 인덱스를 반환하거나, 없으면 에러를 발생시킵니다.\n",
    "sen2.index('은')"
   ]
  },
  {
   "cell_type": "code",
   "execution_count": null,
   "metadata": {},
   "outputs": [],
   "source": [
    "# `sen2`의 각 글자 사이에 '.'를 추가합니다.\n",
    "'.'.join(sen2)"
   ]
  },
  {
   "cell_type": "code",
   "execution_count": null,
   "metadata": {},
   "outputs": [],
   "source": [
    "# `sen2`의 '주방'을 '부엌'으로 바꿉니다.\n",
    "sen2.replace('주방', '부엌')"
   ]
  },
  {
   "cell_type": "code",
   "execution_count": null,
   "metadata": {},
   "outputs": [],
   "source": [
    "# `sen2`를 공백 기준으로 분리합니다.\n",
    "sen2.split()"
   ]
  },
  {
   "cell_type": "code",
   "execution_count": null,
   "metadata": {},
   "outputs": [],
   "source": [
    "# `sen2`를 '맛있는'이라는 문자열 기준으로 분리합니다.\n",
    "sen2.split('맛있는')"
   ]
  },
  {
   "cell_type": "markdown",
   "metadata": {},
   "source": [
    "## [연습문제4] 원소의 형 변환"
   ]
  },
  {
   "cell_type": "code",
   "execution_count": null,
   "metadata": {},
   "outputs": [],
   "source": [
    "# 실수 객체 `e`를 생성하고 다음 문제를 해결하세요.\n",
    "e = 1.23"
   ]
  },
  {
   "cell_type": "code",
   "execution_count": null,
   "metadata": {},
   "outputs": [],
   "source": [
    "# `e`의 데이터 타입을 확인합니다.\n",
    "type(e)"
   ]
  },
  {
   "cell_type": "code",
   "execution_count": null,
   "metadata": {},
   "outputs": [],
   "source": [
    "# `e`를 정수형으로 변환합니다.\n",
    "int(e)"
   ]
  },
  {
   "cell_type": "code",
   "execution_count": null,
   "metadata": {},
   "outputs": [],
   "source": [
    "# `e`를 문자형으로 변환합니다.\n",
    "str(e)"
   ]
  },
  {
   "cell_type": "code",
   "execution_count": null,
   "metadata": {},
   "outputs": [],
   "source": [
    "# 문자열 객체 `f`를 생성하고 다음 문제를 해결하세요.\n",
    "f = '2.46'"
   ]
  },
  {
   "cell_type": "code",
   "execution_count": null,
   "metadata": {},
   "outputs": [],
   "source": [
    "# `f`의 데이터 타입을 확인합니다.\n",
    "type(f)"
   ]
  },
  {
   "cell_type": "code",
   "execution_count": null,
   "metadata": {},
   "outputs": [],
   "source": [
    "# `f`를 실수형으로 변환합니다.\n",
    "float(f)"
   ]
  },
  {
   "cell_type": "code",
   "execution_count": null,
   "metadata": {},
   "outputs": [],
   "source": [
    "# `f`를 정수형으로 변환합니다.\n",
    "int(f)"
   ]
  },
  {
   "cell_type": "markdown",
   "metadata": {},
   "source": [
    "## [연습문제5] 리스트의 인덱싱과 슬라이싱"
   ]
  },
  {
   "cell_type": "code",
   "execution_count": null,
   "metadata": {},
   "outputs": [],
   "source": [
    "# 리스트 객체 `g`를 생성하고 인덱싱과 슬라이싱으로 다음 문제를 해결하세요.\n",
    "g = [1, 3, [5, '7'], '9', ['ABC', '2', 4, 6], '가방', 8]"
   ]
  },
  {
   "cell_type": "code",
   "execution_count": null,
   "metadata": {},
   "outputs": [],
   "source": [
    "# `g`의 원소 '9'를 출력합니다.\n",
    "g[3]"
   ]
  },
  {
   "cell_type": "code",
   "execution_count": null,
   "metadata": {},
   "outputs": [],
   "source": [
    "# `g`의 원소 [1, 3, [5, '7'], '9']를 출력합니다. (콜론을 이용해보세요)\n",
    "g[0:4]"
   ]
  },
  {
   "cell_type": "code",
   "execution_count": null,
   "metadata": {},
   "outputs": [],
   "source": [
    "# `g`의 원소 [4, 6]을 출력합니다. (콜론을 이용해보세요)\n",
    "g[4][2:4]"
   ]
  },
  {
   "cell_type": "code",
   "execution_count": null,
   "metadata": {},
   "outputs": [],
   "source": [
    "# `g`의 원소 [3, '9', '가방']을 출력합니다. (이중 콜론을 이용해보세요))\n",
    "g[1::2]"
   ]
  },
  {
   "cell_type": "code",
   "execution_count": null,
   "metadata": {},
   "outputs": [],
   "source": [
    "# `g`의 원소 [1, '9', 8]을 출력합니다. (이중 콜론을 이용해보세요)\n",
    "g[::3]"
   ]
  },
  {
   "cell_type": "code",
   "execution_count": null,
   "metadata": {},
   "outputs": [],
   "source": [
    "# `g`의 모든 원소를 역순으로 출력합니다. (이중 콜론을 이용해보세요)\n",
    "g[::-1]"
   ]
  },
  {
   "cell_type": "markdown",
   "metadata": {},
   "source": [
    "## [연습문제6] 리스트 관련 함수"
   ]
  },
  {
   "cell_type": "code",
   "execution_count": null,
   "metadata": {},
   "outputs": [],
   "source": [
    "# 리스트 객체 `h`를 생성하고 다음 문제를 해결하세요.\n",
    "# 1부터 30까지의 정수 중 3의 배수를 원소로 갖는 리스트 객체 `h`를 생성합니다.\n",
    "h = list(range(3, 31, 3))"
   ]
  },
  {
   "cell_type": "code",
   "execution_count": null,
   "metadata": {},
   "outputs": [],
   "source": [
    "# `h`의 각 원소를 2번 반복하여 출력합니다. (출력만 할 뿐, 객체 `h`는 원래대로 유지해야 합니다.)\n",
    "h * 2"
   ]
  },
  {
   "cell_type": "code",
   "execution_count": null,
   "metadata": {},
   "outputs": [],
   "source": [
    "# `h`에 정수 36을 마지막 원소로 추가합니다. (append() 함수를 사용해보세요)\n",
    "h.append(36)\n",
    "print(h)"
   ]
  },
  {
   "cell_type": "code",
   "execution_count": null,
   "metadata": {},
   "outputs": [],
   "source": [
    "# `h`의 마지막 원소인 정수 36을 삭제합니다. (remove() 함수를 사용해보세요)\n",
    "h.remove(36)"
   ]
  },
  {
   "cell_type": "code",
   "execution_count": null,
   "metadata": {},
   "outputs": [],
   "source": [
    "# `h`에 정수 40을 마지막 원소로 추가합니다. (이번에는 extend() 함수를 사용해보세요)\n",
    "h.extend([40])\n",
    "print(h)"
   ]
  },
  {
   "cell_type": "code",
   "execution_count": null,
   "metadata": {},
   "outputs": [],
   "source": [
    "# `h`의 마지막 원소인 정수 40을 삭제합니다. (이번에는 pop() 함수를 사용해보세요)\n",
    "h.pop()"
   ]
  },
  {
   "cell_type": "code",
   "execution_count": null,
   "metadata": {},
   "outputs": [],
   "source": [
    "# `h`의 2번 인덱스에 정수 99를 추가합니다.\n",
    "h.insert(2, 99)\n",
    "print(h)"
   ]
  },
  {
   "cell_type": "code",
   "execution_count": null,
   "metadata": {},
   "outputs": [],
   "source": [
    "# `h`의 3번 인덱스를 정수 88로 변경합니다.\n",
    "h[3] = 88\n",
    "print(h)"
   ]
  },
  {
   "cell_type": "code",
   "execution_count": null,
   "metadata": {},
   "outputs": [],
   "source": [
    "# `h`의 원소 중 정수 21, 24, 27을 차례로 삭제합니다. (remove() 함수 또는 del 문을 이용해보세요.)\n",
    "h.remove(21)\n",
    "h.remove(24)\n",
    "h.remove(27)\n",
    "print(h)"
   ]
  },
  {
   "cell_type": "code",
   "execution_count": null,
   "metadata": {},
   "outputs": [],
   "source": [
    "# `h`의 원소를 오름차순으로 정렬합니다.\n",
    "h.sort()\n",
    "print(h)"
   ]
  },
  {
   "cell_type": "code",
   "execution_count": null,
   "metadata": {},
   "outputs": [],
   "source": [
    "# `h`의 원소를 오름차순으로 정렬합니다.\n",
    "h.sort(reverse = True)\n",
    "print(h)"
   ]
  },
  {
   "cell_type": "code",
   "execution_count": null,
   "metadata": {},
   "outputs": [],
   "source": [
    "# `h`의 원소를 역순으로 변경합니다. (2가지 방법이 있는데, 그 차이를 확인해보세요)\n",
    "h.reverse()\n",
    "print(h)"
   ]
  },
  {
   "cell_type": "code",
   "execution_count": null,
   "metadata": {},
   "outputs": [],
   "source": [
    "h[::-1]"
   ]
  },
  {
   "cell_type": "markdown",
   "metadata": {},
   "source": [
    "## [연습문제7] 튜플 관련 함수"
   ]
  },
  {
   "cell_type": "code",
   "execution_count": null,
   "metadata": {},
   "outputs": [],
   "source": [
    "# 튜플 객체 `t`를 생성하고, 다음 문제를 해결하세요.\n",
    "# 1부터 20까지 정수 중 4의 배수를 원소로 갖는 튜플 객체 `t`를 생성합니다.\n",
    "t = tuple(range(4, 21, 4))\n",
    "print(t)"
   ]
  },
  {
   "cell_type": "code",
   "execution_count": null,
   "metadata": {},
   "outputs": [],
   "source": [
    "# `t`의 각 원소를 2번 반복하여 출력합니다.\n",
    "t * 2"
   ]
  },
  {
   "cell_type": "code",
   "execution_count": null,
   "metadata": {},
   "outputs": [],
   "source": [
    "# `t`의 마지막에 정수 24를 추가합니다.\n",
    "t.append(24)"
   ]
  },
  {
   "cell_type": "code",
   "execution_count": null,
   "metadata": {},
   "outputs": [],
   "source": [
    "# `t`의 마지막 원소를 삭제합니다.\n",
    "t.pop()"
   ]
  },
  {
   "cell_type": "code",
   "execution_count": null,
   "metadata": {},
   "outputs": [],
   "source": [
    "# `t`의 3번 인덱스를 정수 32로 변경합니다.\n",
    "t[3] = 32"
   ]
  },
  {
   "cell_type": "code",
   "execution_count": null,
   "metadata": {},
   "outputs": [],
   "source": [
    "# `t`의 원소를 오름차순으로 정렬합니다.\n",
    "t.sort()\n",
    "print(t)"
   ]
  },
  {
   "cell_type": "code",
   "execution_count": null,
   "metadata": {},
   "outputs": [],
   "source": [
    "# `t`의 원소를 역순으로 변경합니다.\n",
    "t.reverse()\n",
    "print(t)"
   ]
  },
  {
   "cell_type": "code",
   "execution_count": null,
   "metadata": {},
   "outputs": [],
   "source": [
    "t[::-1]"
   ]
  },
  {
   "cell_type": "markdown",
   "metadata": {},
   "source": [
    "## [연습문제8] 딕셔너리 관련 함수"
   ]
  },
  {
   "cell_type": "code",
   "execution_count": null,
   "metadata": {},
   "outputs": [],
   "source": [
    "# 딕셔녀리 객체 `i`를 생성하고 다음 문제를 해결하세요.\n",
    "# `key`가 'name', 'age'이고, 대응하는 'value'가 '유재석', 47인 딕셔너리 객체 `i`를 생성합니다.\n",
    "i = {'name' : '유재석', 'age' : 47}\n",
    "print(i)"
   ]
  },
  {
   "cell_type": "code",
   "execution_count": null,
   "metadata": {},
   "outputs": [],
   "source": [
    "# `i`에 새로운 `key`와 `value`로 'nick'과 '메뚜기'를 각각 추가합니다.\n",
    "i['nick'] = '메뚜기'\n",
    "print(i)"
   ]
  },
  {
   "cell_type": "code",
   "execution_count": null,
   "metadata": {},
   "outputs": [],
   "source": [
    "# `i`의 `key`가 'age'인 원소의 `value`를 48로 변경합니다.\n",
    "i['age'] = 48\n",
    "print(i)"
   ]
  },
  {
   "cell_type": "code",
   "execution_count": null,
   "metadata": {},
   "outputs": [],
   "source": [
    "# `i`의 `key`가 'name'인 원소를 삭제합니다.\n",
    "del i['name']\n",
    "print(i)"
   ]
  },
  {
   "cell_type": "code",
   "execution_count": null,
   "metadata": {},
   "outputs": [],
   "source": [
    "# `i`의 `key`가 'money'인 원소의 `value`를 출력합니다.\n",
    "i['money']"
   ]
  },
  {
   "cell_type": "code",
   "execution_count": null,
   "metadata": {},
   "outputs": [],
   "source": [
    "i.get('money')"
   ]
  },
  {
   "cell_type": "code",
   "execution_count": null,
   "metadata": {},
   "outputs": [],
   "source": [
    "# `i`의 `key`에 'money'가 포함되어 있는지 여부를 확인합니다.\n",
    "'money' in i"
   ]
  },
  {
   "cell_type": "code",
   "execution_count": null,
   "metadata": {},
   "outputs": [],
   "source": [
    "# `i`의 모든 원소를 삭제합니다.\n",
    "i.clear()\n",
    "print(i)"
   ]
  },
  {
   "cell_type": "markdown",
   "metadata": {},
   "source": [
    "## [연습문제9] 집합 관련 함수"
   ]
  },
  {
   "cell_type": "code",
   "execution_count": null,
   "metadata": {},
   "outputs": [],
   "source": [
    "# 집합 객체 `s1`과 `s2`를 생성하고 다음 문제를 해결하세요.\n",
    "# 1부터 10까지 정수 중 짝수를 원소로 갖는 집합 객체 `s1`과 홀수를 원소로 갖는 집합 객체 `s2`를 각각 생성합니다.\n",
    "\n",
    "# 중괄호를 사용하는 방법\n",
    "s1 = {1, 3, 5, 7, 9}; print(s1)\n",
    "s2 = {2, 4, 6, 8, 10}; print(s2)"
   ]
  },
  {
   "cell_type": "code",
   "execution_count": null,
   "metadata": {},
   "outputs": [],
   "source": [
    "# range() 함수를 이용하는 방법\n",
    "s1 = set(range(1, 11, 2)); print(s1)\n",
    "s2 = set(range(2, 11, 2)); print(s2)"
   ]
  },
  {
   "cell_type": "code",
   "execution_count": null,
   "metadata": {},
   "outputs": [],
   "source": [
    "# `s1`과 `s2`의 합집합을 출력합니다. (2가지 방법을 모두 사용해보세요.)\n",
    "s1.union(s2)"
   ]
  },
  {
   "cell_type": "code",
   "execution_count": null,
   "metadata": {},
   "outputs": [],
   "source": [
    "s1 | s2"
   ]
  },
  {
   "cell_type": "code",
   "execution_count": null,
   "metadata": {},
   "outputs": [],
   "source": [
    "# `s1`과 `s2`의 교집합을 출력합니다. (2가지 방법을 모두 사용해보세요.)\n",
    "s1.intersection(s2)"
   ]
  },
  {
   "cell_type": "code",
   "execution_count": null,
   "metadata": {},
   "outputs": [],
   "source": [
    "s1 & s2"
   ]
  },
  {
   "cell_type": "code",
   "execution_count": null,
   "metadata": {},
   "outputs": [],
   "source": [
    "# `s1`과 `s2`의 차집합을 순서를 바꿔서 차례대로 출력합니다. (2가지 방법을 모두 사용해보세요.)\n",
    "s1 - s2"
   ]
  },
  {
   "cell_type": "code",
   "execution_count": null,
   "metadata": {},
   "outputs": [],
   "source": [
    "s1.difference(s2)"
   ]
  },
  {
   "cell_type": "code",
   "execution_count": null,
   "metadata": {},
   "outputs": [],
   "source": [
    "s2 - s1"
   ]
  },
  {
   "cell_type": "code",
   "execution_count": null,
   "metadata": {},
   "outputs": [],
   "source": [
    "s2.difference(s1)"
   ]
  },
  {
   "cell_type": "code",
   "execution_count": null,
   "metadata": {},
   "outputs": [],
   "source": [
    "# `s1`에 정수 11을 추가합니다.\n",
    "s1.add(11)\n",
    "print(s1)"
   ]
  },
  {
   "cell_type": "code",
   "execution_count": null,
   "metadata": {},
   "outputs": [],
   "source": [
    "# `s2`에 정수 12, 14, 16을 한꺼번에 추가합니다.\n",
    "s2.update([12, 14, 16])\n",
    "print(s2)"
   ]
  },
  {
   "cell_type": "code",
   "execution_count": null,
   "metadata": {},
   "outputs": [],
   "source": [
    "# `s2`에서 정수 12, 14, 16을 차례대로 삭제합니다.\n",
    "s2.remove(12)\n",
    "s2.remove(14)\n",
    "s2.remove(16)\n",
    "print(s2)"
   ]
  },
  {
   "cell_type": "markdown",
   "metadata": {},
   "source": [
    "## [연습문제10] if 조건문"
   ]
  },
  {
   "cell_type": "code",
   "execution_count": null,
   "metadata": {},
   "outputs": [],
   "source": [
    "# 편의점 사장님인 당신 앞에 어려 보이는 손님이 담배를 구입하려고 합니다.\n",
    "# input()과 int() 함수를 사용하여 손님의 나이를 묻고 정수형 객체 `age`에 할당합니다.\n",
    "age = int(input('나이를 말씀해주세요! '))"
   ]
  },
  {
   "cell_type": "code",
   "execution_count": null,
   "metadata": {},
   "outputs": [],
   "source": [
    "# 만약 손님의 나이가 20살 이상이면, ‘담배 구입이 가능합니다!’라는 안내문구를 출력하고\n",
    "# 몇 갑을 구매할 것인지 확인한 다음 정수형 객체 `packs`에 할당합니다.  \n",
    "# 한 갑당 5000원씩 계산한 결과를 정수형 객체 `money`에 할당합니다.  \n",
    "# format() 함수로 ‘결제하실 금액은 {}원입니다.’를 출력합니다. 중괄호 안에 `money`를 출력합니다.  \n",
    "# 만약 손님의 나이가 20살 미만이면, ‘담배를 구입할 수 없습니다!’라는 안내문구를 대신 출력합니다.\n",
    "\n",
    "if (age >= 20):\n",
    "    print('담배 구입이 가능합니다!')\n",
    "    packs = int(input('몇 값을 드릴까요? '))\n",
    "    money = packs * 5000\n",
    "    print('결제하실 금액은 {}원입니다.'.format(money))\n",
    "else:\n",
    "    print('담배를 구입할 수 없습니다!')"
   ]
  },
  {
   "cell_type": "markdown",
   "metadata": {},
   "source": [
    "## [연습문제11] for 반복문"
   ]
  },
  {
   "cell_type": "code",
   "execution_count": null,
   "metadata": {},
   "outputs": [],
   "source": [
    "# 1부터 40까지의 정수를 원소로 갖는 정수형 리스트 객체 `nums`를 생성합니다.\n",
    "nums = list(range(1, 41))"
   ]
  },
  {
   "cell_type": "code",
   "execution_count": null,
   "metadata": {},
   "outputs": [],
   "source": [
    "# 정수 0을 할당한 객체 `sums`을 생성합니다.\n",
    "sums = 0"
   ]
  },
  {
   "cell_type": "code",
   "execution_count": null,
   "metadata": {},
   "outputs": [],
   "source": [
    "# `nums`의 각 원소를 차례대로 입력받아 변수 `num`에 할당하고 아래 내용을 반복 실행합니다.\n",
    "# 만약 `num`의 값이 2 또는 3의 배수일 때, format() 함수로 ‘{}은 2 또는 3의 배수입니다!’라는 \n",
    "# 안내문구의 중괄호 안에 `num`을 포함하여 출력한 다음 반복문의 처음으로 돌아가도록 설정합니다.\n",
    "# 하지만 `num`의 값이 2 또는 3의 배수가 아니면, `sums`에 `num`을 합산합니다. \n",
    "# 그리고 format() 함수로 ‘현재 누적 합계는 {}입니다.’라는 문자열의 중괄호 안에 `sums`를 포함하여 출력합니다.\n",
    " \n",
    "for num in nums:\n",
    "    if ((num % 2 == 0) | (num % 3 == 0)):\n",
    "        print('{}은 2 또는 3의 배수입니다!'.format(num))\n",
    "        continue\n",
    "    else:\n",
    "        sums += num\n",
    "        print('현재 누적 합계는 {}입니다.'.format(sums))"
   ]
  },
  {
   "cell_type": "code",
   "execution_count": null,
   "metadata": {},
   "outputs": [],
   "source": [
    "# 반복문 실행이 끝나면, 최종 `sums`의 값을 출력합니다.\n",
    "print(sums)"
   ]
  },
  {
   "cell_type": "markdown",
   "metadata": {},
   "source": [
    "## [연습문제12] while 반복문"
   ]
  },
  {
   "cell_type": "code",
   "execution_count": null,
   "metadata": {},
   "outputs": [],
   "source": [
    "# 정수 10000을 할당한 정수형 객체 `myCard`를 생성하고 아래 내용을 반복 실행합니다.\n",
    "myCard = 10000"
   ]
  },
  {
   "cell_type": "code",
   "execution_count": null,
   "metadata": {},
   "outputs": [],
   "source": [
    "# format() 함수로 ‘현재 카드 잔액은 {}원입니다.’라는 문자열의 중괄호 안에 `myCard`를 포함하여 출력합니다.\n",
    "# `myCard`가 10000 미만이면 ‘카드를 충전하시겠습니까?[예/아니오]’라는 안내문구를 출력하고, \n",
    "# input() 및 str() 함수를 이용하여 ‘예’ 또는 ‘아니오’를 입력받아 문자열 객체 `charge`에 할당합니다.\n",
    "# 위 코드를 실행한 결과 `charge`가 ‘예’라면 `myCard`에 10000을 더하고, `charge`가 ‘아니오’라면 \n",
    "# ‘감사합니다. 안녕히 가세요!’를 출력한 다음 반복문 실행을 종료합니다.\n",
    "\n",
    "# `myCard`가 10000 이상이면 ‘커피를 주문하시겠습니까?[예/아니오]’라는 안내문구를 출력하고, \n",
    "# input() 및 str() 함수를 이용하여 ‘예’ 또는 ‘아니오’를 입력받아 문자열 객체 `order`에 할당합니다.\n",
    "# 위 코드를 실행한 결과 `order`가 ‘예’라면 `myCard`에 4100을 차감하지만, `order`가 ‘아니오’라면 \n",
    "# ‘감사합니다. 안녕히 가세요!’를 출력한 다음 반복문 실행을 종료합니다.\n",
    "\n",
    "while (myCard):\n",
    "    print('현재 카드 잔액은 {}원입니다'.format(myCard))\n",
    "    if (myCard < 10000):\n",
    "        charge = str(input('카드를 충전하시겠습니까?[예/아니오] '))\n",
    "        if (charge == '예'):\n",
    "            myCard += 10000\n",
    "        else:\n",
    "            print('감사합니다. 안녕히 가세요!')\n",
    "            break\n",
    "    else:\n",
    "        order = str(input('커피를 주문하시겠습니까?[예/아니오] '))\n",
    "        if (order == '예'):\n",
    "            myCard -= 4100\n",
    "        else: \n",
    "            print('감사합니다. 안녕히 가세요!')\n",
    "            break"
   ]
  },
  {
   "cell_type": "markdown",
   "metadata": {},
   "source": [
    "## [연습문제13] 사용자 정의 함수"
   ]
  },
  {
   "cell_type": "code",
   "execution_count": null,
   "metadata": {},
   "outputs": [],
   "source": [
    "# 사용자 정의 함수 ‘getTotal’은 `start`, `end` 인자에 숫자를 받습니다.\n",
    "# 만약 `start`와 `end`에 정수가 아닌 실수가 할당되면 정수로 형 변환을 실행합니다.\n",
    "\n",
    "# 사용자 정의 함수 내에서 range() 및 list() 함수를 이용하여 `start`에서 `end` 사이의 \n",
    "# 연속된 정수를 원소로 갖는 리스트 객체 `nums`를 생성합니다.\n",
    "# 예를 들어, `start`에 1, `end`에 5가 할당되면 `nums`는 [1, 2, 3, 4, 5]가 되어야 합니다.\n",
    "\n",
    "# `nums`의 모든 원소를 더한 정수 객체 `sums`를 생성합니다.\n",
    "# 마지막으로 `sums`를 반환합니다.\n",
    "\n",
    "def getTotal(start = 0, end = 0):\n",
    "    if type(start) != 'int':\n",
    "        start = int(start)\n",
    "    if type(end) != 'int':\n",
    "        end = int(end)\n",
    "    nums = list(range(start, end+1))\n",
    "    sums = sum(nums)\n",
    "    return sums"
   ]
  },
  {
   "cell_type": "code",
   "execution_count": null,
   "metadata": {},
   "outputs": [],
   "source": [
    "# 연속된 정수의 합을 계산합니다.\n",
    "getTotal(1.2, 5.4)"
   ]
  },
  {
   "cell_type": "markdown",
   "metadata": {},
   "source": [
    "## [보너스] 커피 충전 반복문을 사용자 정의 함수로 만들기"
   ]
  },
  {
   "cell_type": "code",
   "execution_count": null,
   "metadata": {},
   "outputs": [],
   "source": [
    "# 사용자 정의 함수는 카드 잔액을 입력받은 후, 연습문제 12번을 실행합니다.\n",
    "\n",
    "def coffee_order():\n",
    "    myCard = int(input('카드 잔액을 입력하세요! '))\n",
    "    \n",
    "    while (myCard):\n",
    "        print('현재 카드 잔액은 {}원입니다'.format(myCard))\n",
    "        if (myCard < 10000):\n",
    "            charge = str(input('카드를 충전하시겠습니까?[예/아니오] '))\n",
    "            if (charge == '예'):\n",
    "                myCard += 10000\n",
    "            else:\n",
    "                print('감사합니다. 안녕히 가세요!')\n",
    "                break\n",
    "        else:\n",
    "            order = str(input('커피를 주문하시겠습니까?[예/아니오] '))\n",
    "            if (order == '예'):\n",
    "                myCard -= 4100\n",
    "            else: \n",
    "                print('감사합니다. 안녕히 가세요!')\n",
    "                break"
   ]
  },
  {
   "cell_type": "code",
   "execution_count": null,
   "metadata": {},
   "outputs": [],
   "source": [
    "coffee_order()"
   ]
  },
  {
   "cell_type": "markdown",
   "metadata": {},
   "source": [
    "## End of Document"
   ]
  }
 ],
 "metadata": {
  "kernelspec": {
   "display_name": "Python 3",
   "language": "python",
   "name": "python3"
  },
  "language_info": {
   "codemirror_mode": {
    "name": "ipython",
    "version": 3
   },
   "file_extension": ".py",
   "mimetype": "text/x-python",
   "name": "python",
   "nbconvert_exporter": "python",
   "pygments_lexer": "ipython3",
   "version": "3.7.6"
  }
 },
 "nbformat": 4,
 "nbformat_minor": 2
}
