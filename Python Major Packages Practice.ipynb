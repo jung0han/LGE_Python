{
 "cells": [
  {
   "cell_type": "markdown",
   "metadata": {},
   "source": [
    "# Python Major Packages 연습문제"
   ]
  },
  {
   "cell_type": "markdown",
   "metadata": {},
   "source": [
    "## [연습문제1] 벡터의 생성 및 인덱싱/슬라이싱"
   ]
  },
  {
   "cell_type": "code",
   "execution_count": null,
   "metadata": {},
   "outputs": [],
   "source": [
    "# 패키지를 호출합니다.\n",
    "import numpy as np"
   ]
  },
  {
   "cell_type": "code",
   "execution_count": null,
   "metadata": {},
   "outputs": [],
   "source": [
    "# [3, 2.2, '1.1', 0.5, '-0.5']인 리스트로 1차원 벡터 `ar1`을 생성하고 출력합니다.\n",
    "ar1 = np.array([3, 2.2, '1.1', 0.5, '-0.5'])\n",
    "ar1"
   ]
  },
  {
   "cell_type": "code",
   "execution_count": null,
   "metadata": {},
   "outputs": [],
   "source": [
    "# `ar1`의 원소를 실수로 변환하여 재할당하고 출력합니다.\n",
    "ar1 = ar1.astype(float)\n",
    "ar1"
   ]
  },
  {
   "cell_type": "code",
   "execution_count": null,
   "metadata": {},
   "outputs": [],
   "source": [
    "# `ar1`의 원소를 정수로 변환하여 재할당하고 출력합니다.\n",
    "ar1 = ar1.astype(int)\n",
    "ar1"
   ]
  },
  {
   "cell_type": "code",
   "execution_count": null,
   "metadata": {},
   "outputs": [],
   "source": [
    "# `ar1`의 2번째 원소인 2를 선택합니다.\n",
    "ar1[1]"
   ]
  },
  {
   "cell_type": "code",
   "execution_count": null,
   "metadata": {},
   "outputs": [],
   "source": [
    "# `ar1`의 마지막에서 두 번째 원소인 0을 선택합니다.\n",
    "ar1[-2]"
   ]
  },
  {
   "cell_type": "code",
   "execution_count": null,
   "metadata": {},
   "outputs": [],
   "source": [
    "# `ar1`의 2~4번째 원소를 선택합니다. (출력 결과는 ‘array[2, 1, 0]’ 입니다.)\n",
    "ar1[1:4]"
   ]
  },
  {
   "cell_type": "markdown",
   "metadata": {},
   "source": [
    "## [연습문제2] 벡터의 연산"
   ]
  },
  {
   "cell_type": "code",
   "execution_count": null,
   "metadata": {},
   "outputs": [],
   "source": [
    "# 1부터 20까지 정수 중 홀수를 원소로 갖는 벡터 `ov`와 짝수를 갖는 벡터 `ev`을 생성합니다.\n",
    "ov = np.arange(1, 21, 2); print(ov)\n",
    "ev = np.arange(2, 21, 2); print(ev)"
   ]
  },
  {
   "cell_type": "code",
   "execution_count": null,
   "metadata": {},
   "outputs": [],
   "source": [
    "# `ov`와 `ev`의 덧셈 연산을 실행합니다.\n",
    "ov + ev"
   ]
  },
  {
   "cell_type": "code",
   "execution_count": null,
   "metadata": {},
   "outputs": [],
   "source": [
    "# `ov`와 `ev`의 뺄셈 연산을 실행합니다.\n",
    "ov - ev"
   ]
  },
  {
   "cell_type": "code",
   "execution_count": null,
   "metadata": {},
   "outputs": [],
   "source": [
    "# 두 벡터의 방향을 바꿔가면서 실행해보세요.\n",
    "ev - ov"
   ]
  },
  {
   "cell_type": "code",
   "execution_count": null,
   "metadata": {},
   "outputs": [],
   "source": [
    "# `ov`의 각 원소에 실수 3.14를 곱합니다.\n",
    "ov * 3.14"
   ]
  },
  {
   "cell_type": "code",
   "execution_count": null,
   "metadata": {},
   "outputs": [],
   "source": [
    "# `ev`의 각 원소를 정수 2로 나눕니다.\n",
    "ev / 2"
   ]
  },
  {
   "cell_type": "code",
   "execution_count": null,
   "metadata": {},
   "outputs": [],
   "source": [
    "# `ov`와 `ev`의 곱셈 연산을 실행합니다.\n",
    "ov * ev"
   ]
  },
  {
   "cell_type": "code",
   "execution_count": null,
   "metadata": {},
   "outputs": [],
   "source": [
    "# `ov`와 `ev`의 나눗셈 연산을 실행합니다.\n",
    "ov / ev"
   ]
  },
  {
   "cell_type": "code",
   "execution_count": null,
   "metadata": {},
   "outputs": [],
   "source": [
    "# 두 벡터의 방향을 바꿔가면서 실행해보세요.\n",
    "ev / ov"
   ]
  },
  {
   "cell_type": "markdown",
   "metadata": {},
   "source": [
    "## [연습문제3] 행렬의 생성 및 인덱싱/슬라이싱"
   ]
  },
  {
   "cell_type": "code",
   "execution_count": null,
   "metadata": {},
   "outputs": [],
   "source": [
    "# [[1, 3, 5], [2, 4, 6]]인 리스트로 2차원 행렬 `ar2`를 생성하고 출력합니다. \n",
    "ar2 = np.array([[1, 3, 5], [2, 4, 6]])\n",
    "ar2"
   ]
  },
  {
   "cell_type": "code",
   "execution_count": null,
   "metadata": {},
   "outputs": [],
   "source": [
    "# `ar2`의 행과 열의 차원을 확인합니다.\n",
    "ar2.shape"
   ]
  },
  {
   "cell_type": "code",
   "execution_count": null,
   "metadata": {},
   "outputs": [],
   "source": [
    "# `ar2`를 3행 2열로 차원을 변환합니다.\n",
    "ar2.reshape(3, 2)"
   ]
  },
  {
   "cell_type": "code",
   "execution_count": null,
   "metadata": {},
   "outputs": [],
   "source": [
    "# 1부터 30까지 정수 중 홀수를 원소로 갖는 벡터 `ar1`을 생성하고 출력합니다.\n",
    "ar1 = np.arange(1, 31, 2)\n",
    "ar1"
   ]
  },
  {
   "cell_type": "code",
   "execution_count": null,
   "metadata": {},
   "outputs": [],
   "source": [
    "# `ar1`으로 5행 3열의 행렬 `ar2`를 생성합니다. (원소가 ‘세로’ 방향으로 입력되도록 합니다.)\n",
    "ar2 = ar1.reshape(5, 3, order = 'F')\n",
    "ar2"
   ]
  },
  {
   "cell_type": "code",
   "execution_count": null,
   "metadata": {},
   "outputs": [],
   "source": [
    "# `ar2`의 2행, 3열 원소인 23을 출력합니다.\n",
    "ar2[1, 2]"
   ]
  },
  {
   "cell_type": "code",
   "execution_count": null,
   "metadata": {},
   "outputs": [],
   "source": [
    "# `ar2`의 5행, 1열 원소인 9를 출력합니다.\n",
    "ar2[4, 0]"
   ]
  },
  {
   "cell_type": "markdown",
   "metadata": {},
   "source": [
    "## [연습문제4] 행렬의 연산"
   ]
  },
  {
   "cell_type": "code",
   "execution_count": null,
   "metadata": {},
   "outputs": [],
   "source": [
    "# `ov`로 5행 2열의 행렬 `om`을 생성합니다. (원소의 입력 방향은 기본값인 ‘가로’로 설정하세요.)\n",
    "om = ov.reshape(5, 2, order = 'C')\n",
    "om"
   ]
  },
  {
   "cell_type": "code",
   "execution_count": null,
   "metadata": {},
   "outputs": [],
   "source": [
    "# `ev`로 2행 5열의 행렬 `em`을 생성합니다. (원소의 입력 방향은 기본값인 ‘세로’로 설정하세요.)\n",
    "em = ev.reshape(2, 5, order = 'F')\n",
    "em"
   ]
  },
  {
   "cell_type": "code",
   "execution_count": null,
   "metadata": {},
   "outputs": [],
   "source": [
    "# `om`과 `em`의 덧셈과 뺄셈 연산을 각각 실행합니다. (에러 발생시, 해결방법을 생각해보세요.)\n",
    "om + em"
   ]
  },
  {
   "cell_type": "code",
   "execution_count": null,
   "metadata": {},
   "outputs": [],
   "source": [
    "# 해결방법1 : `om`을 2행 5열의 행렬로 변환한 다음 덧셈 또는 뺄셈 연산을 실행합니다.\n",
    "om.reshape(2, 5) + em"
   ]
  },
  {
   "cell_type": "code",
   "execution_count": null,
   "metadata": {},
   "outputs": [],
   "source": [
    "# 해결방법2 : `em`을 5행 2열의 행렬로 변환한 다음 덧셈 또는 뺄셈 연산을 실행합니다.\n",
    "om + em.reshape(5, 2)"
   ]
  },
  {
   "cell_type": "code",
   "execution_count": null,
   "metadata": {},
   "outputs": [],
   "source": [
    "# `om`과 `em`의 행렬곱 연산을 실행합니다.\n",
    "np.matmul(om, em)"
   ]
  },
  {
   "cell_type": "code",
   "execution_count": null,
   "metadata": {},
   "outputs": [],
   "source": [
    "# 두 행렬의 방향을 바꿔가면서 실행해보세요.\n",
    "np.matmul(em, om)"
   ]
  },
  {
   "cell_type": "code",
   "execution_count": null,
   "metadata": {},
   "outputs": [],
   "source": [
    "# `om`의 1~2행, 1~2열만 선택한 정방행렬 `sm`을 생성하고\n",
    "sm = om[0:2, 0:2]"
   ]
  },
  {
   "cell_type": "code",
   "execution_count": null,
   "metadata": {},
   "outputs": [],
   "source": [
    "# 행렬식을 계산합니다.\n",
    "import numpy.linalg as lin\n",
    "lin.det(sm)"
   ]
  },
  {
   "cell_type": "code",
   "execution_count": null,
   "metadata": {},
   "outputs": [],
   "source": [
    "# 역행렬이 존재하면 역행렬 `im`을 생성합니다.\n",
    "im = lin.inv(sm)\n",
    "im"
   ]
  },
  {
   "cell_type": "code",
   "execution_count": null,
   "metadata": {},
   "outputs": [],
   "source": [
    "# `sm`과 `im`의 행렬곱 연산을 실행합니다.\n",
    "np.matmul(sm, im)"
   ]
  },
  {
   "cell_type": "code",
   "execution_count": null,
   "metadata": {},
   "outputs": [],
   "source": [
    "# 두 행렬의 방향을 바꿔가면서 실행해보세요.\n",
    "np.matmul(im, sm)"
   ]
  },
  {
   "cell_type": "markdown",
   "metadata": {},
   "source": [
    "## [연습문제5] 1차원 시리즈 객체 생성 및 변환"
   ]
  },
  {
   "cell_type": "code",
   "execution_count": null,
   "metadata": {},
   "outputs": [],
   "source": [
    "# 패키지를 호출합니다.\n",
    "import pandas as pd"
   ]
  },
  {
   "cell_type": "code",
   "execution_count": null,
   "metadata": {},
   "outputs": [],
   "source": [
    "# `ov`로 1차원 시리즈 `os`를 생성하고 출력합니다.\n",
    "os = pd.Series(ov)\n",
    "os"
   ]
  },
  {
   "cell_type": "code",
   "execution_count": null,
   "metadata": {},
   "outputs": [],
   "source": [
    "# `os`의 값과 인덱스를 각각 출력합니다.\n",
    "print(os.values)\n",
    "print(os.index)"
   ]
  },
  {
   "cell_type": "code",
   "execution_count": null,
   "metadata": {},
   "outputs": [],
   "source": [
    "# `os`의 인덱스를 1부터 10까지 정수로 변경합니다.\n",
    "os.index = range(1, 11)\n",
    "os"
   ]
  },
  {
   "cell_type": "code",
   "execution_count": null,
   "metadata": {},
   "outputs": [],
   "source": [
    "# `os`의 첫 번째 원소 1을 출력합니다.\n",
    "os[1]"
   ]
  },
  {
   "cell_type": "code",
   "execution_count": null,
   "metadata": {},
   "outputs": [],
   "source": [
    "# `os`에서 10보다 큰 원소만 출력합니다.\n",
    "os[os > 10]"
   ]
  },
  {
   "cell_type": "code",
   "execution_count": null,
   "metadata": {},
   "outputs": [],
   "source": [
    "# `os`에서 10보다 큰 원소를 nan으로 변경합니다.\n",
    "os[os > 10] = np.nan\n",
    "os"
   ]
  },
  {
   "cell_type": "code",
   "execution_count": null,
   "metadata": {},
   "outputs": [],
   "source": [
    "# `os`에서 nan 값을 갖는 원소를 삭제합니다.\n",
    "os = os.dropna()\n",
    "os"
   ]
  },
  {
   "cell_type": "markdown",
   "metadata": {},
   "source": [
    "## [연습문제6] 2차원 데이터프레임 객체의 인덱싱과 슬라이싱"
   ]
  },
  {
   "cell_type": "code",
   "execution_count": null,
   "metadata": {},
   "outputs": [],
   "source": [
    "# 2차원 데이터프레임 `df1`을 생성하고, 다음 문제를 해결하세요.\n",
    "df1 = pd.read_excel('2019_KBO.xlsx')"
   ]
  },
  {
   "cell_type": "code",
   "execution_count": null,
   "metadata": {},
   "outputs": [],
   "source": [
    "# `df1`의 처음 10개 행과 마지막 10개 행을 각각 출력합니다.\n",
    "df1.head(10)"
   ]
  },
  {
   "cell_type": "code",
   "execution_count": null,
   "metadata": {},
   "outputs": [],
   "source": [
    "df1.tail(10)"
   ]
  },
  {
   "cell_type": "code",
   "execution_count": null,
   "metadata": {},
   "outputs": [],
   "source": [
    "# `df1`의 처음 25개 행만 `df1`에 재할당합니다.\n",
    "df1 = df1.head(25)"
   ]
  },
  {
   "cell_type": "code",
   "execution_count": null,
   "metadata": {},
   "outputs": [],
   "source": [
    "# `df1`의 1행, 모든 열을 출력합니다. (iloc와 loc를 각각 사용해보세요.)\n",
    "df1.iloc[0, :]"
   ]
  },
  {
   "cell_type": "code",
   "execution_count": null,
   "metadata": {},
   "outputs": [],
   "source": [
    "df1.loc[0, :]"
   ]
  },
  {
   "cell_type": "code",
   "execution_count": null,
   "metadata": {},
   "outputs": [],
   "source": [
    "# `df1`의 인덱스를 1~25로 변경합니다.\n",
    "df1.index = range(1, 26)\n",
    "df1"
   ]
  },
  {
   "cell_type": "code",
   "execution_count": null,
   "metadata": {},
   "outputs": [],
   "source": [
    "# `df1`의 1행, 모든 열을 다시 출력합니다. (iloc와 loc를 각각 사용해보세요.)\n",
    "df1.iloc[0, :]"
   ]
  },
  {
   "cell_type": "code",
   "execution_count": null,
   "metadata": {},
   "outputs": [],
   "source": [
    "df1.loc[1, :]"
   ]
  },
  {
   "cell_type": "code",
   "execution_count": null,
   "metadata": {},
   "outputs": [],
   "source": [
    "# `df1`의 11~20행, 1열('선수명')~12열('도루')을 출력합니다. (iloc와 loc를 각각 사용해보세요.)\n",
    "df1.iloc[10:20, 0:12]"
   ]
  },
  {
   "cell_type": "code",
   "execution_count": null,
   "metadata": {},
   "outputs": [],
   "source": [
    "df1.loc[11:20, '선수명':'도루']"
   ]
  },
  {
   "cell_type": "markdown",
   "metadata": {},
   "source": [
    "## [연습문제7] 데이터프레임 전처리"
   ]
  },
  {
   "cell_type": "code",
   "execution_count": null,
   "metadata": {},
   "outputs": [],
   "source": [
    "# 2차원 데이터프레임 `df1`을 생성하고, 다음 문제를 해결하세요.\n",
    "df1 = pd.read_excel('2019_KBO.xlsx')"
   ]
  },
  {
   "cell_type": "code",
   "execution_count": null,
   "metadata": {},
   "outputs": [],
   "source": [
    "# `df1`에서 '타율', 'OPS' 컬럼을 삭제하고 `df1`에 재할당합니다.\n",
    "# (drop() 함수의 `axis` 및 `inplace` 인자를 동시에 이용해서 해결해보세요.)\n",
    "df1.drop(['타율', 'OPS'], axis = 1, inplace = True)"
   ]
  },
  {
   "cell_type": "code",
   "execution_count": null,
   "metadata": {},
   "outputs": [],
   "source": [
    "# `df1`에서 컬럼별로 nan이 포함되어 있는지 확인하고, \n",
    "df1.isna().sum()"
   ]
  },
  {
   "cell_type": "code",
   "execution_count": null,
   "metadata": {},
   "outputs": [],
   "source": [
    "# 만약 있으면 해당 행을 모두 삭제합니다.\n",
    "df1 = df1.dropna()"
   ]
  },
  {
   "cell_type": "code",
   "execution_count": null,
   "metadata": {},
   "outputs": [],
   "source": [
    "# `df1`의 '안타'를 '타수'로 나누고 소수점 셋째 자리까지 남도록 반올림한 '타율' 컬럼을 생성합니다.\n",
    "df1['타율'] = np.round(df1['안타'] / df1['타수'], 3)"
   ]
  },
  {
   "cell_type": "code",
   "execution_count": null,
   "metadata": {},
   "outputs": [],
   "source": [
    "# `df1`의 '타율'이 3할 5푼 이상인 선수만 남긴 `df2`를 생성합니다.\n",
    "df2 = df1[df1['타율'] >= 0.350]"
   ]
  },
  {
   "cell_type": "code",
   "execution_count": null,
   "metadata": {},
   "outputs": [],
   "source": [
    "# `df2`의 선수명만 출력합니다.\n",
    "df2['선수명']"
   ]
  },
  {
   "cell_type": "markdown",
   "metadata": {},
   "source": [
    "## [연습문제8] 기술통계"
   ]
  },
  {
   "cell_type": "code",
   "execution_count": null,
   "metadata": {},
   "outputs": [],
   "source": [
    "# 패키지를 호출합니다.\n",
    "from scipy import stats"
   ]
  },
  {
   "cell_type": "code",
   "execution_count": null,
   "metadata": {},
   "outputs": [],
   "source": [
    "# 우리나라 30대 후반 남성의 가상의 키 데이터로 다음 문제를 해결하세요.\n",
    "np.random.seed(seed = 1234)\n",
    "heights = np.random.normal(loc = 172.4, scale = 5.7, size = 10000)\n",
    "type(heights)\n",
    "\n",
    "# Series로 변환합니다.\n",
    "heights = pd.Series(heights)"
   ]
  },
  {
   "cell_type": "code",
   "execution_count": null,
   "metadata": {},
   "outputs": [],
   "source": [
    "# `heights`의 평균, 5% 절사평균 및 중위수를 각각 출력합니다.\n",
    "heights.mean()"
   ]
  },
  {
   "cell_type": "code",
   "execution_count": null,
   "metadata": {},
   "outputs": [],
   "source": [
    "stats.trim_mean(heights, 0.05)"
   ]
  },
  {
   "cell_type": "code",
   "execution_count": null,
   "metadata": {},
   "outputs": [],
   "source": [
    "heights.median()"
   ]
  },
  {
   "cell_type": "code",
   "execution_count": null,
   "metadata": {},
   "outputs": [],
   "source": [
    "# `heights`의 최소값, 최대값 및 범위를 각각 출력합니다.\n",
    "heights.min()"
   ]
  },
  {
   "cell_type": "code",
   "execution_count": null,
   "metadata": {},
   "outputs": [],
   "source": [
    "heights.max()"
   ]
  },
  {
   "cell_type": "code",
   "execution_count": null,
   "metadata": {},
   "outputs": [],
   "source": [
    "heights.max() - heights.min()"
   ]
  },
  {
   "cell_type": "code",
   "execution_count": null,
   "metadata": {},
   "outputs": [],
   "source": [
    "# `heights`의 1, 3사분위수와 사분범위를 각각 출력합니다.\n",
    "heights.quantile(0.25)"
   ]
  },
  {
   "cell_type": "code",
   "execution_count": null,
   "metadata": {},
   "outputs": [],
   "source": [
    "heights.quantile(0.75)"
   ]
  },
  {
   "cell_type": "code",
   "execution_count": null,
   "metadata": {},
   "outputs": [],
   "source": [
    "heights.quantile(0.75) - heights.quantile(0.25)"
   ]
  },
  {
   "cell_type": "code",
   "execution_count": null,
   "metadata": {},
   "outputs": [],
   "source": [
    "# `heights`의 분산과 표준편차를 각각 출력합니다.\n",
    "heights.var()"
   ]
  },
  {
   "cell_type": "code",
   "execution_count": null,
   "metadata": {},
   "outputs": [],
   "source": [
    "heights.std()"
   ]
  },
  {
   "cell_type": "code",
   "execution_count": null,
   "metadata": {},
   "outputs": [],
   "source": [
    "# `heights`의 왜도와 첨도를 각각 출력합니다.\n",
    "heights.skew()"
   ]
  },
  {
   "cell_type": "code",
   "execution_count": null,
   "metadata": {},
   "outputs": [],
   "source": [
    "heights.kurtosis()"
   ]
  },
  {
   "cell_type": "code",
   "execution_count": null,
   "metadata": {},
   "outputs": [],
   "source": [
    "# `heights`의 도수분포표를 생성합니다. (구간은 150부터 200까지 5cm 간격으로 설정하세요)\n",
    "bins = np.arange(150, 201, 5)\n",
    "bins"
   ]
  },
  {
   "cell_type": "code",
   "execution_count": null,
   "metadata": {},
   "outputs": [],
   "source": [
    "freq, bins = np.histogram(heights, bins)\n",
    "freq"
   ]
  },
  {
   "cell_type": "markdown",
   "metadata": {},
   "source": [
    "## [연습문제9] 집계함수로 데이터프레임 생성"
   ]
  },
  {
   "cell_type": "code",
   "execution_count": null,
   "metadata": {},
   "outputs": [],
   "source": [
    "# 2차원 데이터프레임 `df1`을 생성하고, 다음 문제를 해결하세요.\n",
    "df1 = pd.read_excel('2019_KBO.xlsx')"
   ]
  },
  {
   "cell_type": "code",
   "execution_count": null,
   "metadata": {},
   "outputs": [],
   "source": [
    "# 필요한 패키지를 호출합니다.\n",
    "from dfply import *"
   ]
  },
  {
   "cell_type": "code",
   "execution_count": null,
   "metadata": {},
   "outputs": [],
   "source": [
    "# dfply 패키지 함수를 이용하여 `df1`에서 타석이 1 이상인 선수만 필터링합니다.\n",
    "# 필요한 컬럼인 '팀명', '삼진', '볼넷' 컬럼만 선택합니다.\n",
    "# 팀별로 '삼진' 및 '볼넷' 합계인 '팀삼진'과 '팀볼넷' 컬럼을 생성합니다.\n",
    "# '팀볼넷'을 '팀삼진'으로 나눈 '볼삼비' 컬럼을 생성합니다.\n",
    "# (소수점 첫째 자리까지 남도록 반올림하세요.)\n",
    "# '볼삼비' 컬럼 기준 내림차순으로 정렬한 결과를 `teamStat3`로 저장합니다.\n",
    "\n",
    "team3 = (df1 >>\n",
    "         filter_by(X.타석 >= 1) >>\n",
    "         select(X.팀명, X.삼진, X.볼넷) >>\n",
    "         group_by(X.팀명) >>\n",
    "         summarize(팀삼진 = X.삼진.sum(),\n",
    "                   팀볼넷 = X.볼넷.sum()) >>\n",
    "         mutate(볼삼비 = np.round(X.팀볼넷 / X.팀삼진, 2)))\n",
    "\n",
    "team3.sort_values(by = '볼삼비', ascending = False, inplace = True)\n",
    "team3"
   ]
  },
  {
   "cell_type": "markdown",
   "metadata": {},
   "source": [
    "## [연습문제10] 데이터 시각화"
   ]
  },
  {
   "cell_type": "code",
   "execution_count": null,
   "metadata": {},
   "outputs": [],
   "source": [
    "# 패키지를 호출합니다.\n",
    "import matplotlib.pyplot as plt\n",
    "plt.rc('font', family = 'AppleGothic')"
   ]
  },
  {
   "cell_type": "code",
   "execution_count": null,
   "metadata": {},
   "outputs": [],
   "source": [
    "# 2차원 데이터프레임 `df1`을 생성하고, 다음 문제를 해결하세요.\n",
    "df1 = pd.read_excel('2019_KBO.xlsx')"
   ]
  },
  {
   "cell_type": "code",
   "execution_count": null,
   "metadata": {},
   "outputs": [],
   "source": [
    "# dfply 패키지 함수를 이용하여 `df1`에서 규정타석(144 * 3.1) 이상 소화한 선수만 필터링한 다음\n",
    "# '선수명', '팀명', '안타', '삼진', '볼넷' 컬럼만 선택하여 `df3`로 저장합니다.\n",
    "df3 = (df1 >>\n",
    "       filter_by(X.타석 >= 144 * 3.1) >>\n",
    "       select(X.선수명, X.팀명, X.안타, X.삼진, X.볼넷))"
   ]
  },
  {
   "cell_type": "code",
   "execution_count": null,
   "metadata": {},
   "outputs": [],
   "source": [
    "# `df3`의 '안타' 컬럼으로 도수분포표와 히스토그램을 그리세요.\n",
    "# (최대값, 최소값을 포함해야 합니다!)\n",
    "df3['안타'].describe()"
   ]
  },
  {
   "cell_type": "code",
   "execution_count": null,
   "metadata": {},
   "outputs": [],
   "source": [
    "bins = np.arange(80, 201, 10)\n",
    "bins"
   ]
  },
  {
   "cell_type": "code",
   "execution_count": null,
   "metadata": {},
   "outputs": [],
   "source": [
    "freq, bins = np.histogram(df3['안타'], bins)\n",
    "freq"
   ]
  },
  {
   "cell_type": "code",
   "execution_count": null,
   "metadata": {},
   "outputs": [],
   "source": [
    "plt.figure(figsize = (6, 4), dpi = 100)\n",
    "plt.hist(df3['안타'], bins, color = 'gold', ec = 'gray')\n",
    "plt.title('히스토그램', fontsize = 14)\n",
    "plt.xlabel('안타', fontsize = 12)\n",
    "plt.show()"
   ]
  },
  {
   "cell_type": "code",
   "execution_count": null,
   "metadata": {},
   "outputs": [],
   "source": [
    "# `df3`의 '안타' 컬럼으로 상자수염그림을 그리세요. (이상치를 빨간색 점으로 표시해보세요)\n",
    "plt.figure(figsize = (6, 4), dpi = 100)\n",
    "plt.boxplot(df3['안타'], sym = 'ro', \n",
    "            boxprops = dict(c = 'black', lw = 2),\n",
    "            whiskerprops = dict(c = 'red', ls = '--'))\n",
    "plt.title('상자수염그림', fontsize = 14)\n",
    "plt.xticks([1], ['안타'])\n",
    "plt.show()"
   ]
  },
  {
   "cell_type": "code",
   "execution_count": null,
   "metadata": {},
   "outputs": [],
   "source": [
    "# `df3`의 '삼진'과 '볼넷' 컬럼으로 산점도를 그리세요.\n",
    "plt.figure(figsize = (6, 4), dpi = 100)\n",
    "plt.scatter(df3['삼진'], df3['볼넷'], c = 'gray')\n",
    "plt.title('삼진 vs 볼넷', fontsize = 14)\n",
    "plt.axvline(df3['삼진'].mean(), c = 'red', ls = '--', lw = 1)\n",
    "plt.axhline(df3['볼넷'].mean(), c = 'red', ls = '--', lw = 1)\n",
    "\n",
    "my = df3[df3['팀명'] == 'LG']\n",
    "plt.scatter(my['삼진'], my['볼넷'], c = 'red')\n",
    "for x, y, label in zip(my['삼진'], my['볼넷'], my['선수명']):\n",
    "    plt.text(x + 2, y, label, \n",
    "             ha = 'left', va = 'center', c = 'darkblue')\n",
    "\n",
    "plt.show()"
   ]
  },
  {
   "cell_type": "code",
   "execution_count": null,
   "metadata": {},
   "outputs": [],
   "source": [
    "# `team3`의 ‘볼삼비’ 컬럼으로 세로 막대그래프를 그리세요. (막대 위로 텍스트를 추가해보세요.)\n",
    "plt.figure(figsize = (6, 4), dpi = 100)\n",
    "plt.bar(team3['팀명'], team3['볼삼비'], color = 'orange')\n",
    "plt.title('막대그래프', fontsize = 14)\n",
    "plt.xlabel('팀명', fontsize = 12)\n",
    "plt.ylabel('볼삼비', fontsize = 12)\n",
    "\n",
    "plt.ylim(0, 0.8)\n",
    "for x, y in zip(team3['팀명'], team3['볼삼비']):\n",
    "    plt.text(x, y + 0.02, y,\n",
    "             ha = 'center', va = 'bottom', c = 'k')\n",
    "\n",
    "plt.show()"
   ]
  },
  {
   "cell_type": "markdown",
   "metadata": {},
   "source": [
    "## End of Document"
   ]
  }
 ],
 "metadata": {
  "kernelspec": {
   "display_name": "Python 3",
   "language": "python",
   "name": "python3"
  },
  "language_info": {
   "codemirror_mode": {
    "name": "ipython",
    "version": 3
   },
   "file_extension": ".py",
   "mimetype": "text/x-python",
   "name": "python",
   "nbconvert_exporter": "python",
   "pygments_lexer": "ipython3",
   "version": "3.7.6"
  }
 },
 "nbformat": 4,
 "nbformat_minor": 2
}
