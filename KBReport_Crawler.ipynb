{
 "cells": [
  {
   "cell_type": "markdown",
   "metadata": {},
   "source": [
    "## KBReport에서 타자 스탯 수집하기"
   ]
  },
  {
   "cell_type": "code",
   "execution_count": null,
   "metadata": {},
   "outputs": [],
   "source": [
    "# 필요한 패키지 호출\n",
    "import requests\n",
    "from bs4 import BeautifulSoup as bts\n",
    "import pandas as pd\n",
    "import time"
   ]
  },
  {
   "cell_type": "code",
   "execution_count": null,
   "metadata": {},
   "outputs": [],
   "source": [
    "# 요청 URL 설정\n",
    "url = 'http://www.kbreport.com/leader/list/ajax'"
   ]
  },
  {
   "cell_type": "code",
   "execution_count": null,
   "metadata": {},
   "outputs": [],
   "source": [
    "# Body 파라미터 설정\n",
    "data = {'rows': 20,\n",
    "        'order': 'oWAR',\n",
    "        'orderType': 'DESC',\n",
    "        'year_from': 2020,\n",
    "        'year_to': 2020,\n",
    "        'gameType': 'R', \n",
    "        'page': 1}"
   ]
  },
  {
   "cell_type": "code",
   "execution_count": null,
   "metadata": {
    "scrolled": true
   },
   "outputs": [],
   "source": [
    "# HTTP Request \n",
    "res = requests.post(url = url, data = data)"
   ]
  },
  {
   "cell_type": "code",
   "execution_count": null,
   "metadata": {},
   "outputs": [],
   "source": [
    "# 응답 상태코드 확인\n",
    "res.status_code"
   ]
  },
  {
   "cell_type": "code",
   "execution_count": null,
   "metadata": {},
   "outputs": [],
   "source": [
    "# 요청 헤더 확인\n",
    "res.headers"
   ]
  },
  {
   "cell_type": "code",
   "execution_count": null,
   "metadata": {},
   "outputs": [],
   "source": [
    "# 응답 콘텐트 확인 (bytes 객체로 출력됨)\n",
    "res.content"
   ]
  },
  {
   "cell_type": "code",
   "execution_count": null,
   "metadata": {},
   "outputs": [],
   "source": [
    "# UTF-8으로 디코딩 (한글이 제대로 보이도록)\n",
    "res.content.decode('UTF-8')"
   ]
  },
  {
   "cell_type": "code",
   "execution_count": null,
   "metadata": {},
   "outputs": [],
   "source": [
    "# BeautifulSoup을 이용하여 HTML parsing\n",
    "html = bts(res.content, 'html.parser')\n",
    "html"
   ]
  },
  {
   "cell_type": "code",
   "execution_count": null,
   "metadata": {},
   "outputs": [],
   "source": [
    "# <table> 태그만 선택 \n",
    "tbl = html.select('table.ltb-table')\n",
    "tbl"
   ]
  },
  {
   "cell_type": "code",
   "execution_count": null,
   "metadata": {
    "scrolled": true
   },
   "outputs": [],
   "source": [
    "# 문자열을 데이터프레임으로 읽어오기\n",
    "df = pd.read_html(str(tbl))[0]\n",
    "df"
   ]
  },
  {
   "cell_type": "code",
   "execution_count": null,
   "metadata": {
    "scrolled": true
   },
   "outputs": [],
   "source": [
    "# 불필요한 컬럼 삭제 \n",
    "df.drop('#', axis = 1, inplace = True)\n",
    "df"
   ]
  },
  {
   "cell_type": "markdown",
   "metadata": {},
   "source": [
    "## 반복문 실행"
   ]
  },
  {
   "cell_type": "code",
   "execution_count": null,
   "metadata": {},
   "outputs": [],
   "source": [
    "# 최종 데이터를 저장할 빈 데이터프레임 생성\n",
    "result = pd.DataFrame()\n",
    "\n",
    "# 수집할 연도 설정\n",
    "year = 2020\n",
    "\n",
    "# 첫 번째 페이지 설정\n",
    "page = 1"
   ]
  },
  {
   "cell_type": "code",
   "execution_count": null,
   "metadata": {
    "scrolled": true
   },
   "outputs": [],
   "source": [
    "# 반복문 실행\n",
    "while page:\n",
    "    \n",
    "    # 출력 현황 확인 \n",
    "    print('현재', page, '페이지 작업 중!')\n",
    "    \n",
    "    # 요청 URL 설정\n",
    "    url = 'http://www.kbreport.com/leader/list/ajax'\n",
    "\n",
    "    # Body 파라미터 설정\n",
    "    data = {'rows': 20,\n",
    "            'order': 'oWAR',\n",
    "            'orderType': 'DESC',\n",
    "            'year_from': year,\n",
    "            'year_to': year,\n",
    "            'gameType': 'R', \n",
    "            'page': page}\n",
    "    \n",
    "    # HTTP Request \n",
    "    res = requests.post(url = url, data = data)\n",
    "    \n",
    "    # BeautifulSoup을 이용하여 HTML parsing\n",
    "    html = bts(res.content, 'html.parser')\n",
    "    \n",
    "    # <table> 태그만 선택 \n",
    "    tbl = html.select('table.ltb-table')\n",
    "    \n",
    "    # 문자열을 pd table 형태로 변환\n",
    "    df = pd.read_html(str(tbl))[0]\n",
    "    \n",
    "    # 불필요한 컬럼 삭제 \n",
    "    df.drop('#', axis = 1, inplace = True)\n",
    "    \n",
    "    # result에 추가 \n",
    "    result = result.append(df, ignore_index = True)\n",
    "    \n",
    "    # df의 행 길이가 20 미만이면 중단 \n",
    "    if df.shape[0] < 20: \n",
    "        print('---> 작업을 종료합니다.')\n",
    "        break\n",
    "    \n",
    "    # 다음 페이지 설정 \n",
    "    page += 1\n",
    "    \n",
    "    # 1초간 멈춤 \n",
    "    time.sleep(1)"
   ]
  },
  {
   "cell_type": "code",
   "execution_count": null,
   "metadata": {},
   "outputs": [],
   "source": [
    "# 작업 결과 확인\n",
    "result.info()"
   ]
  },
  {
   "cell_type": "code",
   "execution_count": null,
   "metadata": {},
   "outputs": [],
   "source": [
    "# 상위 20명만 출력\n",
    "result.head(20)"
   ]
  },
  {
   "cell_type": "markdown",
   "metadata": {},
   "source": [
    "## End of Document"
   ]
  }
 ],
 "metadata": {
  "kernelspec": {
   "display_name": "Python 3",
   "language": "python",
   "name": "python3"
  },
  "language_info": {
   "codemirror_mode": {
    "name": "ipython",
    "version": 3
   },
   "file_extension": ".py",
   "mimetype": "text/x-python",
   "name": "python",
   "nbconvert_exporter": "python",
   "pygments_lexer": "ipython3",
   "version": "3.8.3"
  }
 },
 "nbformat": 4,
 "nbformat_minor": 2
}
